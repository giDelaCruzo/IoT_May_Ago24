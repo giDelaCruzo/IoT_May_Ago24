{
  "nbformat": 4,
  "nbformat_minor": 0,
  "metadata": {
    "colab": {
      "provenance": [],
      "authorship_tag": "ABX9TyOpRCRIW+WDNCGd/DUarnzC",
      "include_colab_link": true
    },
    "kernelspec": {
      "name": "python3",
      "display_name": "Python 3"
    },
    "language_info": {
      "name": "python"
    }
  },
  "cells": [
    {
      "cell_type": "markdown",
      "metadata": {
        "id": "view-in-github",
        "colab_type": "text"
      },
      "source": [
        "<a href=\"https://colab.research.google.com/github/giDelaCruzo/IoT_May_Ago24/blob/main/suscriber.ipynb\" target=\"_parent\"><img src=\"https://colab.research.google.com/assets/colab-badge.svg\" alt=\"Open In Colab\"/></a>"
      ]
    },
    {
      "cell_type": "code",
      "execution_count": null,
      "metadata": {
        "colab": {
          "base_uri": "https://localhost:8080/"
        },
        "id": "KQ_WI7O9_qdk",
        "outputId": "e0208d6e-e837-43b8-ae3b-441c68fc0446"
      },
      "outputs": [
        {
          "output_type": "stream",
          "name": "stdout",
          "text": [
            "Collecting paho-mqtt\n",
            "  Downloading paho_mqtt-2.1.0-py3-none-any.whl (67 kB)\n",
            "\u001b[2K     \u001b[90m━━━━━━━━━━━━━━━━━━━━━━━━━━━━━━━━━━━━━━━━\u001b[0m \u001b[32m67.2/67.2 kB\u001b[0m \u001b[31m2.0 MB/s\u001b[0m eta \u001b[36m0:00:00\u001b[0m\n",
            "\u001b[?25hInstalling collected packages: paho-mqtt\n",
            "Successfully installed paho-mqtt-2.1.0\n"
          ]
        }
      ],
      "source": [
        "pip install paho-mqtt"
      ]
    },
    {
      "cell_type": "code",
      "source": [
        "import paho.mqtt.client as mqtt\n",
        "# MQTT Broker configuration\n",
        "broker = \"test.mosquitto.org\"\n",
        "port = 1883\n",
        "temperature_topic = \"iot/sensor/temperature\"\n",
        "humidity_topic = \"iot/sensor/humidity\"\n",
        "# Create MQTT client\n",
        "client = mqtt.Client()\n",
        "def on_connect(client, userdata, flags, rc):\n",
        "    print(\"Connected with result code \"+str(rc))\n",
        "    client.subscribe(temperature_topic)\n",
        "    client.subscribe(humidity_topic)\n",
        "def on_message(client, userdata, msg):\n",
        "    if msg.topic == temperature_topic:\n",
        "        print(f\"Received: Temperature = {msg.payload.decode()} from topic:{msg.topic}\")\n",
        "    elif msg.topic == humidity_topic:\n",
        "        print(f\"Received: Humidity = {msg.payload.decode()} from topic:{msg.topic}\")\n",
        "# Configure callbacks\n",
        "client.on_connect = on_connect\n",
        "client.on_message = on_message\n",
        "# Connect to the broker\n",
        "client.connect(broker, port, 60)\n",
        "# Maintain connection and wait for messages\n",
        "client.loop_forever()\n"
      ],
      "metadata": {
        "colab": {
          "base_uri": "https://localhost:8080/",
          "height": 1000
        },
        "id": "_zm3sQXn_1WG",
        "outputId": "cda84b06-7885-47cb-8448-460fe0be1eb5"
      },
      "execution_count": null,
      "outputs": [
        {
          "output_type": "stream",
          "name": "stderr",
          "text": [
            "<ipython-input-4-56e2b897948e>:8: DeprecationWarning: Callback API version 1 is deprecated, update to latest version\n",
            "  client = mqtt.Client()\n"
          ]
        },
        {
          "output_type": "stream",
          "name": "stdout",
          "text": [
            "Connected with result code 0\n",
            "Received: Temperature = 23.26041027521433 from topic:iot/sensor/temperature\n",
            "Received: Humidity = 55.593753617460024 from topic:iot/sensor/humidity\n",
            "Received: Temperature = 21.21833513287184 from topic:iot/sensor/temperature\n",
            "Received: Humidity = 44.57061617083774 from topic:iot/sensor/humidity\n",
            "Received: Temperature = 24.55778140883579 from topic:iot/sensor/temperature\n",
            "Received: Humidity = 59.63780094421916 from topic:iot/sensor/humidity\n",
            "Received: Temperature = 21.083111200142916 from topic:iot/sensor/temperature\n",
            "Received: Humidity = 48.15117805405998 from topic:iot/sensor/humidity\n",
            "Received: Temperature = 22.5441625675758 from topic:iot/sensor/temperature\n",
            "Received: Humidity = 50.068426722739375 from topic:iot/sensor/humidity\n",
            "Received: Temperature = 21.31746808470014 from topic:iot/sensor/temperature\n",
            "Received: Humidity = 52.24402221016342 from topic:iot/sensor/humidity\n",
            "Received: Temperature = 23.103413643146855 from topic:iot/sensor/temperature\n",
            "Received: Humidity = 47.56703036618027 from topic:iot/sensor/humidity\n",
            "Received: Temperature = 23.839057296315136 from topic:iot/sensor/temperature\n",
            "Received: Humidity = 37.423209852329514 from topic:iot/sensor/humidity\n",
            "Received: Temperature = 23.632077081494486 from topic:iot/sensor/temperature\n",
            "Received: Humidity = 37.54933436384787 from topic:iot/sensor/humidity\n",
            "Received: Temperature = 23.474792383944987 from topic:iot/sensor/temperature\n",
            "Received: Humidity = 47.042164736569525 from topic:iot/sensor/humidity\n",
            "Received: Temperature = 23.61192883975724 from topic:iot/sensor/temperature\n",
            "Received: Humidity = 55.30551755480043 from topic:iot/sensor/humidity\n",
            "Received: Temperature = 22.882132031402936 from topic:iot/sensor/temperature\n",
            "Received: Humidity = 36.740605131936036 from topic:iot/sensor/humidity\n",
            "Received: Temperature = 22.869213384011292 from topic:iot/sensor/temperature\n",
            "Received: Humidity = 44.1577260740536 from topic:iot/sensor/humidity\n",
            "Received: Temperature = 20.69415488489147 from topic:iot/sensor/temperature\n",
            "Received: Humidity = 30.622468873287428 from topic:iot/sensor/humidity\n",
            "Received: Temperature = 22.92985569083177 from topic:iot/sensor/temperature\n",
            "Received: Humidity = 33.755183746871296 from topic:iot/sensor/humidity\n",
            "Received: Temperature = 23.14271562276361 from topic:iot/sensor/temperature\n",
            "Received: Humidity = 40.38270456581668 from topic:iot/sensor/humidity\n",
            "Received: Temperature = 23.82339192817342 from topic:iot/sensor/temperature\n",
            "Received: Humidity = 37.05804510978518 from topic:iot/sensor/humidity\n",
            "Received: Temperature = 20.03075365189543 from topic:iot/sensor/temperature\n",
            "Received: Humidity = 53.88289241975984 from topic:iot/sensor/humidity\n",
            "Received: Temperature = 20.864543344341534 from topic:iot/sensor/temperature\n",
            "Received: Humidity = 33.320099616111634 from topic:iot/sensor/humidity\n",
            "Received: Temperature = 22.051105832747897 from topic:iot/sensor/temperature\n",
            "Received: Humidity = 52.81078525616047 from topic:iot/sensor/humidity\n",
            "Received: Temperature = 23.50885803422577 from topic:iot/sensor/temperature\n",
            "Received: Humidity = 30.30366507367243 from topic:iot/sensor/humidity\n",
            "Received: Temperature = 23.56513156647134 from topic:iot/sensor/temperature\n",
            "Received: Humidity = 48.84804838419252 from topic:iot/sensor/humidity\n",
            "Received: Temperature = 20.667700248341607 from topic:iot/sensor/temperature\n",
            "Received: Humidity = 39.79263133978998 from topic:iot/sensor/humidity\n",
            "Received: Temperature = 21.81462363035271 from topic:iot/sensor/temperature\n",
            "Received: Humidity = 47.040167827172645 from topic:iot/sensor/humidity\n",
            "Received: Temperature = 21.72446723470418 from topic:iot/sensor/temperature\n",
            "Received: Humidity = 37.525815909591074 from topic:iot/sensor/humidity\n",
            "Received: Temperature = 23.56737595966682 from topic:iot/sensor/temperature\n",
            "Received: Humidity = 36.61607208630106 from topic:iot/sensor/humidity\n",
            "Received: Temperature = 23.80265879290648 from topic:iot/sensor/temperature\n",
            "Received: Humidity = 34.614608986941334 from topic:iot/sensor/humidity\n",
            "Received: Temperature = 21.956661024337464 from topic:iot/sensor/temperature\n",
            "Received: Humidity = 52.44422673412866 from topic:iot/sensor/humidity\n",
            "Received: Temperature = 22.838404880573513 from topic:iot/sensor/temperature\n",
            "Received: Humidity = 48.11313300498152 from topic:iot/sensor/humidity\n",
            "Received: Temperature = 20.304816851006525 from topic:iot/sensor/temperature\n",
            "Received: Humidity = 58.61034508275893 from topic:iot/sensor/humidity\n",
            "Received: Temperature = 24.01425696547826 from topic:iot/sensor/temperature\n",
            "Received: Humidity = 51.27486463984378 from topic:iot/sensor/humidity\n"
          ]
        },
        {
          "output_type": "error",
          "ename": "KeyboardInterrupt",
          "evalue": "",
          "traceback": [
            "\u001b[0;31m---------------------------------------------------------------------------\u001b[0m",
            "\u001b[0;31mKeyboardInterrupt\u001b[0m                         Traceback (most recent call last)",
            "\u001b[0;32m<ipython-input-4-56e2b897948e>\u001b[0m in \u001b[0;36m<cell line: 24>\u001b[0;34m()\u001b[0m\n\u001b[1;32m     22\u001b[0m \u001b[0mclient\u001b[0m\u001b[0;34m.\u001b[0m\u001b[0mconnect\u001b[0m\u001b[0;34m(\u001b[0m\u001b[0mbroker\u001b[0m\u001b[0;34m,\u001b[0m \u001b[0mport\u001b[0m\u001b[0;34m,\u001b[0m \u001b[0;36m60\u001b[0m\u001b[0;34m)\u001b[0m\u001b[0;34m\u001b[0m\u001b[0;34m\u001b[0m\u001b[0m\n\u001b[1;32m     23\u001b[0m \u001b[0;31m# Maintain connection and wait for messages\u001b[0m\u001b[0;34m\u001b[0m\u001b[0;34m\u001b[0m\u001b[0m\n\u001b[0;32m---> 24\u001b[0;31m \u001b[0mclient\u001b[0m\u001b[0;34m.\u001b[0m\u001b[0mloop_forever\u001b[0m\u001b[0;34m(\u001b[0m\u001b[0;34m)\u001b[0m\u001b[0;34m\u001b[0m\u001b[0;34m\u001b[0m\u001b[0m\n\u001b[0m",
            "\u001b[0;32m/usr/local/lib/python3.10/dist-packages/paho/mqtt/client.py\u001b[0m in \u001b[0;36mloop_forever\u001b[0;34m(self, timeout, retry_first_connection)\u001b[0m\n\u001b[1;32m   2295\u001b[0m             \u001b[0mrc\u001b[0m \u001b[0;34m=\u001b[0m \u001b[0mMQTTErrorCode\u001b[0m\u001b[0;34m.\u001b[0m\u001b[0mMQTT_ERR_SUCCESS\u001b[0m\u001b[0;34m\u001b[0m\u001b[0;34m\u001b[0m\u001b[0m\n\u001b[1;32m   2296\u001b[0m             \u001b[0;32mwhile\u001b[0m \u001b[0mrc\u001b[0m \u001b[0;34m==\u001b[0m \u001b[0mMQTTErrorCode\u001b[0m\u001b[0;34m.\u001b[0m\u001b[0mMQTT_ERR_SUCCESS\u001b[0m\u001b[0;34m:\u001b[0m\u001b[0;34m\u001b[0m\u001b[0;34m\u001b[0m\u001b[0m\n\u001b[0;32m-> 2297\u001b[0;31m                 \u001b[0mrc\u001b[0m \u001b[0;34m=\u001b[0m \u001b[0mself\u001b[0m\u001b[0;34m.\u001b[0m\u001b[0m_loop\u001b[0m\u001b[0;34m(\u001b[0m\u001b[0mtimeout\u001b[0m\u001b[0;34m)\u001b[0m\u001b[0;34m\u001b[0m\u001b[0;34m\u001b[0m\u001b[0m\n\u001b[0m\u001b[1;32m   2298\u001b[0m                 \u001b[0;31m# We don't need to worry about locking here, because we've\u001b[0m\u001b[0;34m\u001b[0m\u001b[0;34m\u001b[0m\u001b[0m\n\u001b[1;32m   2299\u001b[0m                 \u001b[0;31m# either called loop_forever() when in single threaded mode, or\u001b[0m\u001b[0;34m\u001b[0m\u001b[0;34m\u001b[0m\u001b[0m\n",
            "\u001b[0;32m/usr/local/lib/python3.10/dist-packages/paho/mqtt/client.py\u001b[0m in \u001b[0;36m_loop\u001b[0;34m(self, timeout)\u001b[0m\n\u001b[1;32m   1661\u001b[0m \u001b[0;34m\u001b[0m\u001b[0m\n\u001b[1;32m   1662\u001b[0m         \u001b[0;32mtry\u001b[0m\u001b[0;34m:\u001b[0m\u001b[0;34m\u001b[0m\u001b[0;34m\u001b[0m\u001b[0m\n\u001b[0;32m-> 1663\u001b[0;31m             \u001b[0msocklist\u001b[0m \u001b[0;34m=\u001b[0m \u001b[0mselect\u001b[0m\u001b[0;34m.\u001b[0m\u001b[0mselect\u001b[0m\u001b[0;34m(\u001b[0m\u001b[0mrlist\u001b[0m\u001b[0;34m,\u001b[0m \u001b[0mwlist\u001b[0m\u001b[0;34m,\u001b[0m \u001b[0;34m[\u001b[0m\u001b[0;34m]\u001b[0m\u001b[0;34m,\u001b[0m \u001b[0mtimeout\u001b[0m\u001b[0;34m)\u001b[0m\u001b[0;34m\u001b[0m\u001b[0;34m\u001b[0m\u001b[0m\n\u001b[0m\u001b[1;32m   1664\u001b[0m         \u001b[0;32mexcept\u001b[0m \u001b[0mTypeError\u001b[0m\u001b[0;34m:\u001b[0m\u001b[0;34m\u001b[0m\u001b[0;34m\u001b[0m\u001b[0m\n\u001b[1;32m   1665\u001b[0m             \u001b[0;31m# Socket isn't correct type, in likelihood connection is lost\u001b[0m\u001b[0;34m\u001b[0m\u001b[0;34m\u001b[0m\u001b[0m\n",
            "\u001b[0;31mKeyboardInterrupt\u001b[0m: "
          ]
        }
      ]
    }
  ]
}
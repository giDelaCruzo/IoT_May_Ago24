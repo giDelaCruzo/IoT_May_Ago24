{
  "nbformat": 4,
  "nbformat_minor": 0,
  "metadata": {
    "colab": {
      "provenance": [],
      "authorship_tag": "ABX9TyOEjOlodvKp272QNpITC6C/",
      "include_colab_link": true
    },
    "kernelspec": {
      "name": "python3",
      "display_name": "Python 3"
    },
    "language_info": {
      "name": "python"
    }
  },
  "cells": [
    {
      "cell_type": "markdown",
      "metadata": {
        "id": "view-in-github",
        "colab_type": "text"
      },
      "source": [
        "<a href=\"https://colab.research.google.com/github/giDelaCruzo/IoT_May_Ago24/blob/main/Actividad_06_Procesamiento_en_tiempo_real_ThingSpeakl.ipynb\" target=\"_parent\"><img src=\"https://colab.research.google.com/assets/colab-badge.svg\" alt=\"Open In Colab\"/></a>"
      ]
    },
    {
      "cell_type": "code",
      "execution_count": null,
      "metadata": {
        "colab": {
          "base_uri": "https://localhost:8080/"
        },
        "id": "jrQvXHxs6oKV",
        "outputId": "84798a48-8c36-477f-d8be-7b618a37cb26"
      },
      "outputs": [
        {
          "output_type": "stream",
          "name": "stdout",
          "text": [
            "Collecting colorama\n",
            "  Downloading colorama-0.4.6-py2.py3-none-any.whl (25 kB)\n",
            "Installing collected packages: colorama\n",
            "Successfully installed colorama-0.4.6\n"
          ]
        }
      ],
      "source": [
        "pip install colorama\n"
      ]
    },
    {
      "cell_type": "code",
      "source": [
        "import requests\n",
        "import json\n",
        "import time\n",
        "from colorama import Fore\n",
        "\n",
        "\n",
        "\n",
        "# Tus datos\n",
        "API_KEY = 'Y8NVKWD4FBJGJFQE'\n",
        "CHANNEL_ID = '2574414'\n",
        "url = f'https://api.thingspeak.com/channels/{CHANNEL_ID}/feeds.json?api_key={API_KEY}&results=10'\n",
        "\n",
        "# Paso 1: Obtener los datos de ThingSpeak\n",
        "def get_data_from_thingspeak(url):\n",
        "    response = requests.get(url)\n",
        "    if response.status_code == 200:\n",
        "        return response.json()\n",
        "    else:\n",
        "        print(f\"Error: {response.status_code}\")\n",
        "        return None\n",
        "\n",
        "# Paso 2: Procesar los datos recibidos y detectar anomalías\n",
        "def process_data(feeds, last_entry_id):\n",
        "    anomalies = []\n",
        "    new_last_entry_id = last_entry_id\n",
        "\n",
        "    for entry in feeds:\n",
        "        entry_id = int(entry['entry_id'])\n",
        "        if entry_id > last_entry_id:\n",
        "            temperature = float(entry['field1'])\n",
        "            humidity = float(entry['field2'])\n",
        "            if temperature < 24 or temperature > 32:\n",
        "                anomalies.append({\n",
        "                    'type': 'temperature',\n",
        "                    'value': temperature,\n",
        "                    'timestamp': entry['created_at']\n",
        "                })\n",
        "            if humidity < 40 or humidity > 65:\n",
        "                anomalies.append({\n",
        "                    'type': 'humidity',\n",
        "                    'value': humidity,\n",
        "                    'timestamp': entry['created_at']\n",
        "                })\n",
        "            new_last_entry_id = max(new_last_entry_id, entry_id)\n",
        "\n",
        "    return anomalies, new_last_entry_id\n",
        "\n",
        "# Paso 3: Tomar acciones basadas en las anomalías detectadas\n",
        "def take_action(anomalies):\n",
        "    if anomalies:\n",
        "        for anomaly in anomalies:\n",
        "            if anomaly['type'] == 'temperature':\n",
        "                print(f\"{Fore.RED}Alerta: Temperatura anómala detectada con {anomaly['value']} °C en {anomaly['timestamp']}\")\n",
        "            elif anomaly['type'] == 'humidity':\n",
        "                print(f\"{Fore.RED}Alerta: Humedad anómala detectada con {anomaly['value']}% en {anomaly['timestamp']}\")\n",
        "    else:\n",
        "        print(f\"{Fore.WHITE}No se detectaron anomalías en la última actualización.\")\n",
        "    # Reset color\n",
        "    #print(Style.RESET_ALL)\n",
        "\n",
        "# Variable para guardar el ID de la última entrada procesada\n",
        "last_entry_id = 0\n",
        "\n",
        "# Ejecución del flujo con refresco cada 25 segundos\n",
        "while True:\n",
        "    data = get_data_from_thingspeak(url)\n",
        "    if data:\n",
        "        feeds = data['feeds']\n",
        "        anomalies, last_entry_id = process_data(feeds, last_entry_id)\n",
        "        take_action(anomalies)\n",
        "    time.sleep(20)"
      ],
      "metadata": {
        "colab": {
          "base_uri": "https://localhost:8080/",
          "height": 662
        },
        "id": "SEdwXXFI6tpe",
        "outputId": "56b2e7ca-5bde-484e-abeb-57613014c14e"
      },
      "execution_count": null,
      "outputs": [
        {
          "output_type": "stream",
          "name": "stdout",
          "text": [
            "Alerta: Humedad anómala detectada con 36.22365104115507% en 2024-06-20T05:09:21Z\n",
            "No se detectaron anomalías en la última actualización.\n",
            "Alerta: Humedad anómala detectada con 69.55830103494989% en 2024-06-20T05:10:01Z\n",
            "No se detectaron anomalías en la última actualización.\n",
            "No se detectaron anomalías en la última actualización.\n",
            "Alerta: Temperatura anómala detectada con 37.05221517659507 °C en 2024-06-20T05:11:01Z\n",
            "Alerta: Humedad anómala detectada con 35.21950424426248% en 2024-06-20T05:11:01Z\n",
            "Alerta: Temperatura anómala detectada con 35.00201075508216 °C en 2024-06-20T05:11:22Z\n",
            "Alerta: Humedad anómala detectada con 70.53940654186195% en 2024-06-20T05:11:22Z\n",
            "Alerta: Humedad anómala detectada con 74.36138837240719% en 2024-06-20T05:11:42Z\n",
            "Alerta: Temperatura anómala detectada con 37.56413787027944 °C en 2024-06-20T05:12:02Z\n",
            "Alerta: Temperatura anómala detectada con 22.758848026478056 °C en 2024-06-20T05:12:22Z\n",
            "Alerta: Humedad anómala detectada con 78.59356946635509% en 2024-06-20T05:12:22Z\n",
            "Alerta: Humedad anómala detectada con 30.17039264177624% en 2024-06-20T05:12:42Z\n",
            "Alerta: Temperatura anómala detectada con 35.36003826502475 °C en 2024-06-20T05:13:02Z\n",
            "Alerta: Humedad anómala detectada con 74.8778421446979% en 2024-06-20T05:13:02Z\n",
            "Alerta: Temperatura anómala detectada con 32.39087954034957 °C en 2024-06-20T05:13:22Z\n",
            "Alerta: Temperatura anómala detectada con 37.12263979488027 °C en 2024-06-20T05:13:42Z\n",
            "Alerta: Humedad anómala detectada con 74.68057583176119% en 2024-06-20T05:13:42Z\n",
            "No se detectaron anomalías en la última actualización.\n",
            "Alerta: Temperatura anómala detectada con 20.21853918643334 °C en 2024-06-20T05:14:23Z\n",
            "Alerta: Temperatura anómala detectada con 22.775946674071623 °C en 2024-06-20T05:14:43Z\n",
            "Alerta: Humedad anómala detectada con 67.13162244476848% en 2024-06-20T05:14:43Z\n",
            "Alerta: Humedad anómala detectada con 68.27092356112766% en 2024-06-20T05:15:03Z\n",
            "Alerta: Temperatura anómala detectada con 36.07404101158667 °C en 2024-06-20T05:15:23Z\n",
            "Alerta: Temperatura anómala detectada con 23.027542041565322 °C en 2024-06-20T05:15:43Z\n",
            "Alerta: Humedad anómala detectada con 38.62797978887616% en 2024-06-20T05:15:43Z\n",
            "Alerta: Humedad anómala detectada con 33.742416059826624% en 2024-06-20T05:16:03Z\n"
          ]
        },
        {
          "output_type": "error",
          "ename": "KeyboardInterrupt",
          "evalue": "",
          "traceback": [
            "\u001b[0;31m---------------------------------------------------------------------------\u001b[0m",
            "\u001b[0;31mKeyboardInterrupt\u001b[0m                         Traceback (most recent call last)",
            "\u001b[0;32m<ipython-input-15-e3bb7913ec2e>\u001b[0m in \u001b[0;36m<cell line: 65>\u001b[0;34m()\u001b[0m\n\u001b[1;32m     69\u001b[0m         \u001b[0manomalies\u001b[0m\u001b[0;34m,\u001b[0m \u001b[0mlast_entry_id\u001b[0m \u001b[0;34m=\u001b[0m \u001b[0mprocess_data\u001b[0m\u001b[0;34m(\u001b[0m\u001b[0mfeeds\u001b[0m\u001b[0;34m,\u001b[0m \u001b[0mlast_entry_id\u001b[0m\u001b[0;34m)\u001b[0m\u001b[0;34m\u001b[0m\u001b[0;34m\u001b[0m\u001b[0m\n\u001b[1;32m     70\u001b[0m         \u001b[0mtake_action\u001b[0m\u001b[0;34m(\u001b[0m\u001b[0manomalies\u001b[0m\u001b[0;34m)\u001b[0m\u001b[0;34m\u001b[0m\u001b[0;34m\u001b[0m\u001b[0m\n\u001b[0;32m---> 71\u001b[0;31m     \u001b[0mtime\u001b[0m\u001b[0;34m.\u001b[0m\u001b[0msleep\u001b[0m\u001b[0;34m(\u001b[0m\u001b[0;36m20\u001b[0m\u001b[0;34m)\u001b[0m\u001b[0;34m\u001b[0m\u001b[0;34m\u001b[0m\u001b[0m\n\u001b[0m",
            "\u001b[0;31mKeyboardInterrupt\u001b[0m: "
          ]
        }
      ]
    }
  ]
}
{
  "nbformat": 4,
  "nbformat_minor": 0,
  "metadata": {
    "colab": {
      "provenance": [],
      "authorship_tag": "ABX9TyOSh+lL2cfxXE4uoBCjZCiJ",
      "include_colab_link": true
    },
    "kernelspec": {
      "name": "python3",
      "display_name": "Python 3"
    },
    "language_info": {
      "name": "python"
    }
  },
  "cells": [
    {
      "cell_type": "markdown",
      "metadata": {
        "id": "view-in-github",
        "colab_type": "text"
      },
      "source": [
        "<a href=\"https://colab.research.google.com/github/giDelaCruzo/IoT_May_Ago24/blob/main/Publisher.ipynb\" target=\"_parent\"><img src=\"https://colab.research.google.com/assets/colab-badge.svg\" alt=\"Open In Colab\"/></a>"
      ]
    },
    {
      "cell_type": "code",
      "execution_count": null,
      "metadata": {
        "colab": {
          "base_uri": "https://localhost:8080/"
        },
        "id": "gznS25zI_mQC",
        "outputId": "29bb94f0-997a-409c-e4f1-d59371f58052"
      },
      "outputs": [
        {
          "output_type": "stream",
          "name": "stdout",
          "text": [
            "Collecting paho-mqtt\n",
            "  Downloading paho_mqtt-2.1.0-py3-none-any.whl (67 kB)\n",
            "\u001b[2K     \u001b[90m━━━━━━━━━━━━━━━━━━━━━━━━━━━━━━━━━━━━━━━━\u001b[0m \u001b[32m67.2/67.2 kB\u001b[0m \u001b[31m1.0 MB/s\u001b[0m eta \u001b[36m0:00:00\u001b[0m\n",
            "\u001b[?25hInstalling collected packages: paho-mqtt\n",
            "Successfully installed paho-mqtt-2.1.0\n"
          ]
        }
      ],
      "source": [
        "pip install paho-mqtt"
      ]
    },
    {
      "cell_type": "code",
      "source": [
        "import paho.mqtt.client as mqtt\n",
        "import time\n",
        "import random\n",
        "# MQTT Broker configuration\n",
        "broker = \"test.mosquitto.org\"\n",
        "port = 1883\n",
        "temperature_topic = \"iot/sensor/temperature\"\n",
        "humidity_topic = \"iot/sensor/humidity\"\n",
        "# Create MQTT client\n",
        "client = mqtt.Client()\n",
        "# Connect to the broker\n",
        "client.connect(broker, port)\n",
        "def publish_data():\n",
        "    while True:\n",
        "        temperature = random.uniform(20.0, 25.0)\n",
        "        humidity = random.uniform(30.0, 60.0)\n",
        "        client.publish(temperature_topic, temperature)\n",
        "        client.publish(humidity_topic, humidity)\n",
        "        print(f\"Published: Temperature = {temperature} to topic:{temperature_topic}\")\n",
        "        print(f\"Published: Humidity = {humidity} to topic: {humidity_topic}\")\n",
        "        time.sleep(5) # Send data every 5 seconds\n",
        "publish_data()\n"
      ],
      "metadata": {
        "colab": {
          "base_uri": "https://localhost:8080/",
          "height": 1000
        },
        "id": "3KtLLOPJAVoH",
        "outputId": "c0948b00-c4c6-42aa-f9ec-4c89ccdfe55a"
      },
      "execution_count": null,
      "outputs": [
        {
          "output_type": "stream",
          "name": "stderr",
          "text": [
            "<ipython-input-4-cb381a3c3e4c>:10: DeprecationWarning: Callback API version 1 is deprecated, update to latest version\n",
            "  client = mqtt.Client()\n"
          ]
        },
        {
          "output_type": "stream",
          "name": "stdout",
          "text": [
            "Published: Temperature = 21.21833513287184 to topic:iot/sensor/temperature\n",
            "Published: Humidity = 44.57061617083774 to topic: iot/sensor/humidity\n",
            "Published: Temperature = 21.083111200142916 to topic:iot/sensor/temperature\n",
            "Published: Humidity = 48.15117805405998 to topic: iot/sensor/humidity\n",
            "Published: Temperature = 21.31746808470014 to topic:iot/sensor/temperature\n",
            "Published: Humidity = 52.24402221016342 to topic: iot/sensor/humidity\n",
            "Published: Temperature = 23.839057296315136 to topic:iot/sensor/temperature\n",
            "Published: Humidity = 37.423209852329514 to topic: iot/sensor/humidity\n",
            "Published: Temperature = 23.474792383944987 to topic:iot/sensor/temperature\n",
            "Published: Humidity = 47.042164736569525 to topic: iot/sensor/humidity\n",
            "Published: Temperature = 22.882132031402936 to topic:iot/sensor/temperature\n",
            "Published: Humidity = 36.740605131936036 to topic: iot/sensor/humidity\n",
            "Published: Temperature = 20.69415488489147 to topic:iot/sensor/temperature\n",
            "Published: Humidity = 30.622468873287428 to topic: iot/sensor/humidity\n",
            "Published: Temperature = 23.14271562276361 to topic:iot/sensor/temperature\n",
            "Published: Humidity = 40.38270456581668 to topic: iot/sensor/humidity\n",
            "Published: Temperature = 20.03075365189543 to topic:iot/sensor/temperature\n",
            "Published: Humidity = 53.88289241975984 to topic: iot/sensor/humidity\n",
            "Published: Temperature = 22.051105832747897 to topic:iot/sensor/temperature\n",
            "Published: Humidity = 52.81078525616047 to topic: iot/sensor/humidity\n",
            "Published: Temperature = 23.56513156647134 to topic:iot/sensor/temperature\n",
            "Published: Humidity = 48.84804838419252 to topic: iot/sensor/humidity\n",
            "Published: Temperature = 21.81462363035271 to topic:iot/sensor/temperature\n",
            "Published: Humidity = 47.040167827172645 to topic: iot/sensor/humidity\n",
            "Published: Temperature = 23.56737595966682 to topic:iot/sensor/temperature\n",
            "Published: Humidity = 36.61607208630106 to topic: iot/sensor/humidity\n",
            "Published: Temperature = 21.956661024337464 to topic:iot/sensor/temperature\n",
            "Published: Humidity = 52.44422673412866 to topic: iot/sensor/humidity\n",
            "Published: Temperature = 20.304816851006525 to topic:iot/sensor/temperature\n",
            "Published: Humidity = 58.61034508275893 to topic: iot/sensor/humidity\n",
            "Published: Temperature = 21.476721427230885 to topic:iot/sensor/temperature\n",
            "Published: Humidity = 52.84734643607027 to topic: iot/sensor/humidity\n",
            "Published: Temperature = 23.671804768334425 to topic:iot/sensor/temperature\n",
            "Published: Humidity = 34.55602255186075 to topic: iot/sensor/humidity\n",
            "Published: Temperature = 21.93036064348877 to topic:iot/sensor/temperature\n",
            "Published: Humidity = 56.87747795568077 to topic: iot/sensor/humidity\n",
            "Published: Temperature = 23.205798640938596 to topic:iot/sensor/temperature\n",
            "Published: Humidity = 55.80906760986835 to topic: iot/sensor/humidity\n",
            "Published: Temperature = 23.390053397229934 to topic:iot/sensor/temperature\n",
            "Published: Humidity = 45.67841986298196 to topic: iot/sensor/humidity\n",
            "Published: Temperature = 24.94143250458595 to topic:iot/sensor/temperature\n",
            "Published: Humidity = 30.16155699298173 to topic: iot/sensor/humidity\n",
            "Published: Temperature = 23.586260220698968 to topic:iot/sensor/temperature\n",
            "Published: Humidity = 44.298884170073975 to topic: iot/sensor/humidity\n",
            "Published: Temperature = 22.05677864326804 to topic:iot/sensor/temperature\n",
            "Published: Humidity = 44.73286548065567 to topic: iot/sensor/humidity\n",
            "Published: Temperature = 22.0285406243451 to topic:iot/sensor/temperature\n",
            "Published: Humidity = 32.45108689672214 to topic: iot/sensor/humidity\n",
            "Published: Temperature = 24.137094573109707 to topic:iot/sensor/temperature\n",
            "Published: Humidity = 41.7899908960956 to topic: iot/sensor/humidity\n",
            "Published: Temperature = 23.46949362726576 to topic:iot/sensor/temperature\n",
            "Published: Humidity = 55.713196456982715 to topic: iot/sensor/humidity\n",
            "Published: Temperature = 21.818694692411345 to topic:iot/sensor/temperature\n",
            "Published: Humidity = 45.25176220395025 to topic: iot/sensor/humidity\n",
            "Published: Temperature = 23.724665830518553 to topic:iot/sensor/temperature\n",
            "Published: Humidity = 38.59146046776274 to topic: iot/sensor/humidity\n",
            "Published: Temperature = 20.76695323417296 to topic:iot/sensor/temperature\n",
            "Published: Humidity = 58.94529925662658 to topic: iot/sensor/humidity\n",
            "Published: Temperature = 23.003852367311833 to topic:iot/sensor/temperature\n",
            "Published: Humidity = 42.02719942853106 to topic: iot/sensor/humidity\n",
            "Published: Temperature = 24.118228000925097 to topic:iot/sensor/temperature\n",
            "Published: Humidity = 34.07228028316297 to topic: iot/sensor/humidity\n",
            "Published: Temperature = 21.257581282347786 to topic:iot/sensor/temperature\n",
            "Published: Humidity = 31.580113770981843 to topic: iot/sensor/humidity\n",
            "Published: Temperature = 24.432196862302444 to topic:iot/sensor/temperature\n",
            "Published: Humidity = 30.178817666700823 to topic: iot/sensor/humidity\n",
            "Published: Temperature = 24.978049520646778 to topic:iot/sensor/temperature\n",
            "Published: Humidity = 32.978853697807764 to topic: iot/sensor/humidity\n",
            "Published: Temperature = 21.223319961883327 to topic:iot/sensor/temperature\n",
            "Published: Humidity = 39.133547815031434 to topic: iot/sensor/humidity\n",
            "Published: Temperature = 21.253487003786802 to topic:iot/sensor/temperature\n",
            "Published: Humidity = 42.848210260892955 to topic: iot/sensor/humidity\n",
            "Published: Temperature = 20.872138297894836 to topic:iot/sensor/temperature\n",
            "Published: Humidity = 52.31220613983966 to topic: iot/sensor/humidity\n",
            "Published: Temperature = 20.391259807268376 to topic:iot/sensor/temperature\n",
            "Published: Humidity = 55.5762447139403 to topic: iot/sensor/humidity\n"
          ]
        },
        {
          "output_type": "error",
          "ename": "KeyboardInterrupt",
          "evalue": "",
          "traceback": [
            "\u001b[0;31m---------------------------------------------------------------------------\u001b[0m",
            "\u001b[0;31mKeyboardInterrupt\u001b[0m                         Traceback (most recent call last)",
            "\u001b[0;32m<ipython-input-4-cb381a3c3e4c>\u001b[0m in \u001b[0;36m<cell line: 22>\u001b[0;34m()\u001b[0m\n\u001b[1;32m     20\u001b[0m         \u001b[0mprint\u001b[0m\u001b[0;34m(\u001b[0m\u001b[0;34mf\"Published: Humidity = {humidity} to topic: {humidity_topic}\"\u001b[0m\u001b[0;34m)\u001b[0m\u001b[0;34m\u001b[0m\u001b[0;34m\u001b[0m\u001b[0m\n\u001b[1;32m     21\u001b[0m         \u001b[0mtime\u001b[0m\u001b[0;34m.\u001b[0m\u001b[0msleep\u001b[0m\u001b[0;34m(\u001b[0m\u001b[0;36m5\u001b[0m\u001b[0;34m)\u001b[0m \u001b[0;31m# Send data every 5 seconds\u001b[0m\u001b[0;34m\u001b[0m\u001b[0;34m\u001b[0m\u001b[0m\n\u001b[0;32m---> 22\u001b[0;31m \u001b[0mpublish_data\u001b[0m\u001b[0;34m(\u001b[0m\u001b[0;34m)\u001b[0m\u001b[0;34m\u001b[0m\u001b[0;34m\u001b[0m\u001b[0m\n\u001b[0m",
            "\u001b[0;32m<ipython-input-4-cb381a3c3e4c>\u001b[0m in \u001b[0;36mpublish_data\u001b[0;34m()\u001b[0m\n\u001b[1;32m     19\u001b[0m         \u001b[0mprint\u001b[0m\u001b[0;34m(\u001b[0m\u001b[0;34mf\"Published: Temperature = {temperature} to topic:{temperature_topic}\"\u001b[0m\u001b[0;34m)\u001b[0m\u001b[0;34m\u001b[0m\u001b[0;34m\u001b[0m\u001b[0m\n\u001b[1;32m     20\u001b[0m         \u001b[0mprint\u001b[0m\u001b[0;34m(\u001b[0m\u001b[0;34mf\"Published: Humidity = {humidity} to topic: {humidity_topic}\"\u001b[0m\u001b[0;34m)\u001b[0m\u001b[0;34m\u001b[0m\u001b[0;34m\u001b[0m\u001b[0m\n\u001b[0;32m---> 21\u001b[0;31m         \u001b[0mtime\u001b[0m\u001b[0;34m.\u001b[0m\u001b[0msleep\u001b[0m\u001b[0;34m(\u001b[0m\u001b[0;36m5\u001b[0m\u001b[0;34m)\u001b[0m \u001b[0;31m# Send data every 5 seconds\u001b[0m\u001b[0;34m\u001b[0m\u001b[0;34m\u001b[0m\u001b[0m\n\u001b[0m\u001b[1;32m     22\u001b[0m \u001b[0mpublish_data\u001b[0m\u001b[0;34m(\u001b[0m\u001b[0;34m)\u001b[0m\u001b[0;34m\u001b[0m\u001b[0;34m\u001b[0m\u001b[0m\n",
            "\u001b[0;31mKeyboardInterrupt\u001b[0m: "
          ]
        }
      ]
    }
  ]
}
{
  "nbformat": 4,
  "nbformat_minor": 0,
  "metadata": {
    "colab": {
      "provenance": [],
      "authorship_tag": "ABX9TyP9AfRxd6/26OVm59u1AaJi",
      "include_colab_link": true
    },
    "kernelspec": {
      "name": "python3",
      "display_name": "Python 3"
    },
    "language_info": {
      "name": "python"
    }
  },
  "cells": [
    {
      "cell_type": "markdown",
      "metadata": {
        "id": "view-in-github",
        "colab_type": "text"
      },
      "source": [
        "<a href=\"https://colab.research.google.com/github/giDelaCruzo/IoT_May_Ago24/blob/main/Unidad_1_Practica_de_IoT_SimulatingDataIoT_ThingSpeak.ipynb\" target=\"_parent\"><img src=\"https://colab.research.google.com/assets/colab-badge.svg\" alt=\"Open In Colab\"/></a>"
      ]
    },
    {
      "cell_type": "code",
      "execution_count": null,
      "metadata": {
        "colab": {
          "base_uri": "https://localhost:8080/",
          "height": 905
        },
        "id": "R-IhKS2WN93E",
        "outputId": "3eaf1c80-7747-4c48-c276-0e0efbb069f8"
      },
      "outputs": [
        {
          "output_type": "stream",
          "name": "stdout",
          "text": [
            "Sending temperature: 28.78, Humidity: 36.22\n",
            "Datos enviados a ThinSpeak correctamente!\n",
            "Sending temperature: 24.15, Humidity: 43.45\n",
            "Datos enviados a ThinSpeak correctamente!\n",
            "Sending temperature: 31.30, Humidity: 69.56\n",
            "Datos enviados a ThinSpeak correctamente!\n",
            "Sending temperature: 28.57, Humidity: 47.33\n",
            "Datos enviados a ThinSpeak correctamente!\n",
            "Sending temperature: 25.12, Humidity: 49.36\n",
            "Datos enviados a ThinSpeak correctamente!\n",
            "Sending temperature: 37.05, Humidity: 35.22\n",
            "Datos enviados a ThinSpeak correctamente!\n",
            "Sending temperature: 35.00, Humidity: 70.54\n",
            "Datos enviados a ThinSpeak correctamente!\n",
            "Sending temperature: 25.81, Humidity: 74.36\n",
            "Datos enviados a ThinSpeak correctamente!\n",
            "Sending temperature: 37.56, Humidity: 43.94\n",
            "Datos enviados a ThinSpeak correctamente!\n",
            "Sending temperature: 22.76, Humidity: 78.59\n",
            "Datos enviados a ThinSpeak correctamente!\n",
            "Sending temperature: 24.57, Humidity: 30.17\n",
            "Datos enviados a ThinSpeak correctamente!\n",
            "Sending temperature: 35.36, Humidity: 74.88\n",
            "Datos enviados a ThinSpeak correctamente!\n",
            "Sending temperature: 32.39, Humidity: 46.66\n",
            "Datos enviados a ThinSpeak correctamente!\n",
            "Sending temperature: 37.12, Humidity: 74.68\n",
            "Datos enviados a ThinSpeak correctamente!\n",
            "Sending temperature: 25.90, Humidity: 62.13\n",
            "Datos enviados a ThinSpeak correctamente!\n",
            "Sending temperature: 20.22, Humidity: 64.18\n",
            "Datos enviados a ThinSpeak correctamente!\n",
            "Sending temperature: 22.78, Humidity: 67.13\n",
            "Datos enviados a ThinSpeak correctamente!\n",
            "Sending temperature: 30.99, Humidity: 68.27\n",
            "Datos enviados a ThinSpeak correctamente!\n",
            "Sending temperature: 36.07, Humidity: 55.96\n",
            "Datos enviados a ThinSpeak correctamente!\n",
            "Sending temperature: 23.03, Humidity: 38.63\n",
            "Datos enviados a ThinSpeak correctamente!\n",
            "Sending temperature: 29.90, Humidity: 33.74\n",
            "Datos enviados a ThinSpeak correctamente!\n"
          ]
        },
        {
          "output_type": "error",
          "ename": "KeyboardInterrupt",
          "evalue": "",
          "traceback": [
            "\u001b[0;31m---------------------------------------------------------------------------\u001b[0m",
            "\u001b[0;31mKeyboardInterrupt\u001b[0m                         Traceback (most recent call last)",
            "\u001b[0;32m<ipython-input-7-e065bc5c2324>\u001b[0m in \u001b[0;36m<cell line: 20>\u001b[0;34m()\u001b[0m\n\u001b[1;32m     23\u001b[0m     \u001b[0mprint\u001b[0m\u001b[0;34m(\u001b[0m\u001b[0;34mf'Sending temperature: {temp:.2f}, Humidity: {humidity:.2f}'\u001b[0m\u001b[0;34m)\u001b[0m\u001b[0;34m\u001b[0m\u001b[0;34m\u001b[0m\u001b[0m\n\u001b[1;32m     24\u001b[0m     \u001b[0mdata_send\u001b[0m\u001b[0;34m(\u001b[0m\u001b[0mtemp\u001b[0m\u001b[0;34m,\u001b[0m \u001b[0mhumidity\u001b[0m\u001b[0;34m)\u001b[0m\u001b[0;34m\u001b[0m\u001b[0;34m\u001b[0m\u001b[0m\n\u001b[0;32m---> 25\u001b[0;31m     \u001b[0mtime\u001b[0m\u001b[0;34m.\u001b[0m\u001b[0msleep\u001b[0m\u001b[0;34m(\u001b[0m\u001b[0;36m20\u001b[0m\u001b[0;34m)\u001b[0m\u001b[0;31m# Wait 20 seg\u001b[0m\u001b[0;34m\u001b[0m\u001b[0;34m\u001b[0m\u001b[0m\n\u001b[0m",
            "\u001b[0;31mKeyboardInterrupt\u001b[0m: "
          ]
        }
      ],
      "source": [
        "import random\n",
        "import requests\n",
        "import time\n",
        "\n",
        "API_KEY = 'MT7U2HYBSZ6IUQUQ'\n",
        "BASE_URL = 'https://api.thingspeak.com/update?api_key=MT7U2HYBSZ6IUQUQ&field1=0'\n",
        "\n",
        "def data_send(temperatura, humedad): # Funcion para mandar datos a ThingSpeak\n",
        "    payload = {\n",
        "        'api_key': API_KEY,\n",
        "        'field1': temperatura,\n",
        "        'field2': humedad\n",
        "    }\n",
        "    response = requests.get(BASE_URL, params=payload)\n",
        "    if response.status_code == 200:\n",
        "        print('Datos enviados a ThinSpeak correctamente!')\n",
        "    else:\n",
        "        print(f'Algo se rompió: {response.status_code}')\n",
        "\n",
        "while True:\n",
        "    temp = random.uniform(20.0, 38.0)\n",
        "    humidity = random.uniform(30.0, 80.0)\n",
        "    print(f'Sending temperature: {temp:.2f}, Humidity: {humidity:.2f}')\n",
        "    data_send(temp, humidity)\n",
        "    time.sleep(20)# Wait 20 seg"
      ]
    },
    {
      "cell_type": "code",
      "source": [],
      "metadata": {
        "id": "CXIa-7Fx1IOt"
      },
      "execution_count": null,
      "outputs": []
    }
  ]
}